{
 "cells": [
  {
   "cell_type": "markdown",
   "metadata": {},
   "source": [
    "# Lattice parameter assessment using ANN extracted features via linear regression"
   ]
  },
  {
   "cell_type": "markdown",
   "metadata": {},
   "source": [
    "## 1. Data preparation"
   ]
  },
  {
   "cell_type": "code",
   "execution_count": 1,
   "metadata": {},
   "outputs": [
    {
     "name": "stderr",
     "output_type": "stream",
     "text": [
      "C:\\ProgramData\\Anaconda3\\lib\\site-packages\\h5py\\__init__.py:34: FutureWarning: Conversion of the second argument of issubdtype from `float` to `np.floating` is deprecated. In future, it will be treated as `np.float64 == np.dtype(float).type`.\n",
      "  from ._conv import register_converters as _register_converters\n",
      "Using TensorFlow backend.\n"
     ]
    }
   ],
   "source": [
    "import numpy as np\n",
    "import pandas as pd\n",
    "import keras.models as models\n",
    "import keras\n",
    "from sklearn.linear_model import LinearRegression\n",
    "from sklearn.metrics import mean_squared_error as mse\n",
    "import copy\n",
    "import matplotlib.pyplot as plt\n",
    "import matplotlib.colors\n",
    "\n",
    "plt.rcParams['xtick.labelsize'] = 16\n",
    "plt.rcParams['ytick.labelsize'] = 16\n",
    "plt.rcParams['font.size'] = 15\n",
    "plt.rcParams['figure.autolayout'] = True\n",
    "plt.rcParams['figure.figsize'] = (7.2,4.45)\n",
    "plt.rcParams['axes.titlesize'] = 16\n",
    "plt.rcParams['axes.labelsize'] = 17\n",
    "plt.rcParams['lines.linewidth'] = 2\n",
    "plt.rcParams['lines.markersize'] = 6\n",
    "plt.rcParams['legend.fontsize'] = 13\n",
    "plt.rcParams['mathtext.fontset'] = 'stix'\n",
    "plt.rcParams['font.family'] = 'STIXGeneral'"
   ]
  },
  {
   "cell_type": "markdown",
   "metadata": {},
   "source": [
    "The dataframe used to create the collection to train the ANN is loaded. \n",
    "The ANN 6S10O_WD is loaded."
   ]
  },
  {
   "cell_type": "code",
   "execution_count": 2,
   "metadata": {
    "collapsed": true
   },
   "outputs": [],
   "source": [
    "df = pd.read_pickle('red_cod-db-lat.pkl')\n",
    "modelo = models.load_model('6S10O_WEF.h5')"
   ]
  },
  {
   "cell_type": "markdown",
   "metadata": {},
   "source": [
    "The compounds of the TRAining - VALidation (TRAVAL) set and TEST set are loaded, with their features needed by 6S10O_WD"
   ]
  },
  {
   "cell_type": "code",
   "execution_count": 3,
   "metadata": {
    "collapsed": true
   },
   "outputs": [],
   "source": [
    "db0 = pd.read_csv('dbtraval.csv')\n",
    "x0 = np.load('Xtraval.npy')\n",
    "\n",
    "db1 = pd.read_csv('dbtest.csv')\n",
    "x1 = np.load('Xtest.npy')\n",
    "\n",
    "db = db0.append(db1, ignore_index=True)\n",
    "xor = np.concatenate((x0, x1))"
   ]
  },
  {
   "cell_type": "markdown",
   "metadata": {},
   "source": [
    "The dictionary to standarize the features is loaded. The features are standarized aftwerward."
   ]
  },
  {
   "cell_type": "code",
   "execution_count": 4,
   "metadata": {
    "collapsed": true
   },
   "outputs": [],
   "source": [
    "diccio = np.load('6S10O_WEF-diccio.npy').item()\n",
    "xstr = (x0 - diccio['mean'])/diccio['std']\n",
    "xsts = (x1 - diccio['mean'])/diccio['std']"
   ]
  },
  {
   "cell_type": "markdown",
   "metadata": {},
   "source": [
    "The features containing the local functions and the density of the compound are turned off."
   ]
  },
  {
   "cell_type": "code",
   "execution_count": 5,
   "metadata": {
    "collapsed": true
   },
   "outputs": [],
   "source": [
    "xstr[:,:,132:] = 0\n",
    "xsts[:,:,132:] = 0"
   ]
  },
  {
   "cell_type": "markdown",
   "metadata": {},
   "source": [
    "The ANN 6S10O_WEF is croped till the hidden layer in the middle (the second one). The ANN was croped before activation with tanh function."
   ]
  },
  {
   "cell_type": "code",
   "execution_count": 6,
   "metadata": {
    "collapsed": true
   },
   "outputs": [],
   "source": [
    "croped_model = keras.Model(inputs = modelo.input,\n",
    "                           outputs = modelo.get_layer(index=4).output)"
   ]
  },
  {
   "cell_type": "markdown",
   "metadata": {},
   "source": [
    "Now, the extracted features by the ANN 6S10O_WEF are computed."
   ]
  },
  {
   "cell_type": "code",
   "execution_count": null,
   "metadata": {
    "collapsed": true
   },
   "outputs": [],
   "source": [
    "xhtr = croped_model.predict(xstr[:,0,:])\n",
    "xhts = croped_model.predict(xsts[:,0,:])"
   ]
  },
  {
   "cell_type": "markdown",
   "metadata": {},
   "source": [
    "The lattice parameter, unit vectors and their angles, of the compounds of TRAVAL and TEST sets are search in the dataframe df."
   ]
  },
  {
   "cell_type": "code",
   "execution_count": null,
   "metadata": {
    "collapsed": true
   },
   "outputs": [],
   "source": [
    "lp_tr = np.zeros((db0.shape[0],6))\n",
    "lp_ts = np.zeros((db1.shape[0],6))\n",
    "\n",
    "for row in range(db0.shape[0]):\n",
    "    lp_tr[row] = df[df['cif'] == db0['cif'][row]][['a','b','c','alfa','beta','gamma']].values\n",
    "\n",
    "for row in range(db1.shape[0]):\n",
    "    lp_ts[row] = df[df['cif'] == db1['cif'][row]][['a','b','c','alfa','beta','gamma']].values\n"
   ]
  },
  {
   "cell_type": "markdown",
   "metadata": {},
   "source": [
    "Next function looks for the compound of a given crystal structure (target) and spacegroup. After identifying the target compounds, the function retrieves the X and Y sets for linear regression."
   ]
  },
  {
   "cell_type": "code",
   "execution_count": null,
   "metadata": {
    "collapsed": true
   },
   "outputs": [],
   "source": [
    "def take_compounds(x = np.ones((1,1)), y = np.ones((1,1)),\n",
    "                   db = pd.DataFrame(), sgnum = 221, target = 7):\n",
    "    sidx = db[db['sgnum'] == sgnum][db['target'] == target].index\n",
    "    \n",
    "    return x[sidx], y[sidx], db.take(sidx).reset_index(drop=True)"
   ]
  },
  {
   "cell_type": "markdown",
   "metadata": {},
   "source": [
    "## 2. Lattice parameter - linear regression of cubic crystal structures"
   ]
  },
  {
   "cell_type": "markdown",
   "metadata": {},
   "source": [
    "Now, the sets X and Y are created for the compounds with the crystal structures garnet, spinel, cubic single perovskite (space group 221), and cubic double perovskites (space group 225)."
   ]
  },
  {
   "cell_type": "code",
   "execution_count": null,
   "metadata": {},
   "outputs": [],
   "source": [
    "xtr_per221, ytr_per221, dbtr_per221 = take_compounds(x=xhtr, y = lp_tr[:,0], db = db0, sgnum=221, target=7)\n",
    "xts_per221, yts_per221, dbts_per221 = take_compounds(x=xhts, y = lp_ts[:,0], db = db1, sgnum=221, target=7)\n",
    "\n",
    "xtr_per225, ytr_per225, dbtr_per225 = take_compounds(x=xhtr, y = lp_tr[:,0], db = db0, sgnum=225, target=7)\n",
    "xts_per225, yts_per225, dbts_per225 = take_compounds(x=xhts, y = lp_ts[:,0], db = db1, sgnum=225, target=7)\n",
    "\n",
    "xtr_garnet, ytr_garnet, dbtr_garnet = take_compounds(x=xhtr, y = lp_tr[:,0], db = db0, sgnum=230, target=1)\n",
    "xts_garnet, yts_garnet, dbts_garnet = take_compounds(x=xhts, y = lp_ts[:,0], db = db1, sgnum=230, target=1)\n",
    "\n",
    "xtr_spinel, ytr_spinel, dbtr_spinel = take_compounds(x=xhtr, y = lp_tr[:,0], db = db0, sgnum=227, target=8)\n",
    "xts_spinel, yts_spinel, dbts_spinel = take_compounds(x=xhts, y = lp_ts[:,0], db = db1, sgnum=227, target=8)"
   ]
  },
  {
   "cell_type": "markdown",
   "metadata": {},
   "source": [
    "Next, linear regression is performed with the X and Y sets of each crystal structure type."
   ]
  },
  {
   "cell_type": "code",
   "execution_count": null,
   "metadata": {
    "collapsed": true
   },
   "outputs": [],
   "source": [
    "reg_per221 = LinearRegression().fit(xtr_per221, ytr_per221)\n",
    "reg_per225 = LinearRegression().fit(xtr_per225, ytr_per225)\n",
    "reg_garnet = LinearRegression().fit(xtr_garnet, ytr_garnet)\n",
    "reg_spinel = LinearRegression().fit(xtr_spinel, ytr_spinel)"
   ]
  },
  {
   "cell_type": "markdown",
   "metadata": {},
   "source": [
    "The next function prints r2 - score, mean square error (mse), and the lattice parameters assessed by the linear regression."
   ]
  },
  {
   "cell_type": "code",
   "execution_count": null,
   "metadata": {
    "collapsed": true
   },
   "outputs": [],
   "source": [
    "def use_regressor(regressor = LinearRegression(), \n",
    "                  xtr = np.ones((1,1)), \n",
    "                  ytr = np.ones((1,1)),\n",
    "                  xts = np.ones((1,1)),\n",
    "                  yts = np.ones((1,1)),\n",
    "                  tol = 0):\n",
    "    \n",
    "    ptr = regressor.predict(xtr)\n",
    "    pts = regressor.predict(xts)\n",
    "        \n",
    "    if tol:\n",
    "        try:\n",
    "            if yts.shape[1]:\n",
    "                touse = [i for i in range(pts.shape[0]) if mse(pts[i], yts[i]) <= tol]\n",
    "                unit_vectors = yts.shape[1]\n",
    "            \n",
    "        except:\n",
    "            touse = [i for i in range(pts.shape[0]) if abs(pts - yts)[i] <= tol]\n",
    "            unit_vectors = 1\n",
    "        print(len(touse), 'samples of the test set are used instead of', yts.shape[0])\n",
    "        print('There were ', yts.shape[0] - len(touse), 'outliers.')\n",
    "    else:\n",
    "        touse = range(yts.shape[0])\n",
    "    \n",
    "    r2 = regressor.score(xtr, ytr)    \n",
    "    \n",
    "    mse_train = mse(ytr, ptr)\n",
    "    mse_test = mse(yts[touse], pts[touse])\n",
    "    \n",
    "    print('r2:', r2)\n",
    "    print('mse_train:', mse_train)\n",
    "    print('mse_test:', mse_test)\n",
    "    #'''\n",
    "    print('number of samples in fitting/test:', ytr.shape[0],'/', yts.shape[0])\n",
    "    print('Mean value in fitting/test:', ytr.mean(axis=0),'/', yts.mean(axis=0))\n",
    "    print('Std value in fitting/test:', ytr.std(axis=0),'/', yts.std(axis=0))\n",
    "    #'''\n",
    "    if unit_vectors > 1:\n",
    "        for dim in range(yts.shape[1]):\n",
    "            plt.figure(dim)\n",
    "            plt.title('Lattice parameter linear regression')\n",
    "            plt.scatter(ytr[:,dim], ptr[:,dim], color='blue', marker='o')\n",
    "            plt.scatter(yts[touse][:,dim], pts[touse][:,dim], color='red', marker='o')\n",
    "            plt.xlabel('actual lattice parameter in angstroms')\n",
    "            plt.ylabel('assessed lattice parameter in angstroms')\n",
    "            plt.show()\n",
    "    else:\n",
    "        plt.figure()\n",
    "        plt.title('Lattice parameter linear regression')\n",
    "        plt.scatter(ytr, ptr, color='blue', marker='o')\n",
    "        plt.scatter(yts[touse], pts[touse], color='red', marker='o')\n",
    "        plt.xlabel('actual lattice parameter in angstroms')\n",
    "        plt.ylabel('assessed lattice parameter in angstroms')\n",
    "        plt.show()\n",
    "    \n",
    "    return ptr, pts\n",
    "    "
   ]
  },
  {
   "cell_type": "code",
   "execution_count": null,
   "metadata": {
    "scrolled": true
   },
   "outputs": [],
   "source": [
    "print('LR with garnets')\n",
    "ptr_garnet, pts_garnet = use_regressor(regressor=reg_garnet, \n",
    "              xtr=xtr_garnet, ytr = ytr_garnet,\n",
    "              xts=xts_garnet, yts = yts_garnet, tol=1)\n",
    "print('LR with spinels')\n",
    "ptr_spinel, pts_spinel = use_regressor(regressor=reg_spinel, \n",
    "              xtr=xtr_spinel, ytr = ytr_spinel,\n",
    "              xts=xts_spinel, yts = yts_spinel, tol=1)\n",
    "print('LR with single cubic perovskites')\n",
    "ptr_per221, pts_per221 = use_regressor(regressor=reg_per221, \n",
    "              xtr=xtr_per221, ytr = ytr_per221,\n",
    "              xts=xts_per221, yts = yts_per221, tol=1)\n",
    "print('LR with double cubic perovskites')\n",
    "ptr_per225, pts_per225 = use_regressor(regressor=reg_per225, \n",
    "              xtr=xtr_per225, ytr = ytr_per225,\n",
    "              xts=xts_per225, yts = yts_per225, tol=1)"
   ]
  },
  {
   "cell_type": "markdown",
   "metadata": {
    "collapsed": true
   },
   "source": [
    "## 3. Lattice parameter - linear regression of orthorhombic perovskites"
   ]
  },
  {
   "cell_type": "markdown",
   "metadata": {},
   "source": [
    "The sets X and Y are created using orthorhombic perovskite structures with the space group No. 62"
   ]
  },
  {
   "cell_type": "code",
   "execution_count": null,
   "metadata": {},
   "outputs": [],
   "source": [
    "xtr_perort, ytr_perort, dbtr_perort = take_compounds(x=xhtr, y = lp_tr[:,0:3], db = db0, sgnum=62, target=7)\n",
    "xts_perort, yts_perort, dbts_perort = take_compounds(x=xhts, y = lp_ts[:,0:3], db = db1, sgnum=62, target=7)"
   ]
  },
  {
   "cell_type": "markdown",
   "metadata": {},
   "source": [
    "Now, the lattice parameter are sorted in increasing fashion."
   ]
  },
  {
   "cell_type": "code",
   "execution_count": null,
   "metadata": {
    "collapsed": true
   },
   "outputs": [],
   "source": [
    "ytr_perort = np.sort(ytr_perort, axis=1)\n",
    "yts_perort = np.sort(yts_perort, axis=1)"
   ]
  },
  {
   "cell_type": "code",
   "execution_count": null,
   "metadata": {
    "collapsed": true
   },
   "outputs": [],
   "source": [
    "reg_perort = LinearRegression().fit(xtr_perort, ytr_perort)"
   ]
  },
  {
   "cell_type": "code",
   "execution_count": null,
   "metadata": {},
   "outputs": [],
   "source": [
    "ptr_perort, pts_perort = use_regressor(regressor=reg_perort, \n",
    "              xtr=xtr_perort, ytr = ytr_perort,\n",
    "              xts=xts_perort, yts = yts_perort, tol=1.5)"
   ]
  },
  {
   "cell_type": "markdown",
   "metadata": {
    "collapsed": true
   },
   "source": [
    "## 4. Lattice parameter - linear regression of trigonal perovskites"
   ]
  },
  {
   "cell_type": "markdown",
   "metadata": {},
   "source": [
    "The sets X and Y are created using trigonal perovskite structures with the space group No. 167"
   ]
  },
  {
   "cell_type": "code",
   "execution_count": null,
   "metadata": {},
   "outputs": [],
   "source": [
    "xtr_perrhom, ytr_perrhom, dbtr_perrhom = take_compounds(x=xhtr, y = lp_tr[:,0:3], db = db0, sgnum=167, target=7)\n",
    "xts_perrhom, yts_perrhom, dbts_perrhom = take_compounds(x=xhts, y = lp_ts[:,0:3], db = db1, sgnum=167, target=7)"
   ]
  },
  {
   "cell_type": "markdown",
   "metadata": {},
   "source": [
    "Now, the lattice parameter are sorted in increasing fashion."
   ]
  },
  {
   "cell_type": "code",
   "execution_count": null,
   "metadata": {
    "collapsed": true
   },
   "outputs": [],
   "source": [
    "ytr_perrhom = np.sort(ytr_perrhom, axis=1)[:,[0,2]]\n",
    "yts_perrhom = np.sort(yts_perrhom, axis=1)[:,[0,2]]"
   ]
  },
  {
   "cell_type": "markdown",
   "metadata": {},
   "source": [
    "Due to the symmetry of the unit cell, the linear regression is only performed to two unit vectors, a and c."
   ]
  },
  {
   "cell_type": "code",
   "execution_count": null,
   "metadata": {
    "collapsed": true
   },
   "outputs": [],
   "source": [
    "reg_perrhom = LinearRegression().fit(xtr_perrhom, ytr_perrhom)"
   ]
  },
  {
   "cell_type": "code",
   "execution_count": null,
   "metadata": {},
   "outputs": [],
   "source": [
    "ptr_perrhom, pts_perrhom = use_regressor(regressor=reg_perrhom, \n",
    "              xtr=xtr_perrhom, ytr = ytr_perrhom,\n",
    "              xts=xts_perrhom, yts = yts_perrhom, tol=1.5)"
   ]
  },
  {
   "cell_type": "markdown",
   "metadata": {
    "collapsed": true
   },
   "source": [
    "## 5. Lattice parameter - linear regression of Ruddlesden-Popper perovskites"
   ]
  },
  {
   "cell_type": "markdown",
   "metadata": {},
   "source": [
    "The sets X and Y are created using tetragonal Ruddlesden-Popper structures with the space group No. 139"
   ]
  },
  {
   "cell_type": "code",
   "execution_count": null,
   "metadata": {},
   "outputs": [],
   "source": [
    "xtr_perlay, ytr_perlay, dbtr_perlay = take_compounds(x=xhtr, y = lp_tr[:,0:3], db = db0, sgnum=139, target=5)\n",
    "xts_perlay, yts_perlay, dbts_perlay = take_compounds(x=xhts, y = lp_ts[:,0:3], db = db1, sgnum=139, target=5)"
   ]
  },
  {
   "cell_type": "markdown",
   "metadata": {},
   "source": [
    "Now, the lattice parameter are sorted in increasing fashion."
   ]
  },
  {
   "cell_type": "code",
   "execution_count": null,
   "metadata": {
    "collapsed": true
   },
   "outputs": [],
   "source": [
    "ytr_perlay = np.sort(ytr_perlay, axis=1)[:,[0,2]]\n",
    "yts_perlay = np.sort(yts_perlay, axis=1)[:,[0,2]]"
   ]
  },
  {
   "cell_type": "markdown",
   "metadata": {},
   "source": [
    "Due to the symmetry of the unit cell, the linear regression is only performed to two unit vectors, a and c."
   ]
  },
  {
   "cell_type": "code",
   "execution_count": null,
   "metadata": {
    "collapsed": true
   },
   "outputs": [],
   "source": [
    "reg_perlay = LinearRegression().fit(xtr_perlay, ytr_perlay)"
   ]
  },
  {
   "cell_type": "code",
   "execution_count": null,
   "metadata": {},
   "outputs": [],
   "source": [
    "ptr_perlay, pts_perlay = use_regressor(regressor=reg_perlay, \n",
    "              xtr=xtr_perlay, ytr = ytr_perlay,\n",
    "              xts=xts_perlay, yts = yts_perlay, tol=1)"
   ]
  },
  {
   "cell_type": "code",
   "execution_count": null,
   "metadata": {
    "collapsed": true
   },
   "outputs": [],
   "source": [
    "def save_df(db=pd.DataFrame(), yact = np.ones((1,1)), pred =np.ones((1,1)),\n",
    "           labels=list(), name='name'):\n",
    "    db = db[['cif','formula','sgnum','sitios','elements', 'atoms']]\n",
    "    try:\n",
    "        print('There are', yact.shape[1], 'lattice parameters')\n",
    "    except:\n",
    "        yact = yact[:,np.newaxis]\n",
    "        pred = pred[:, np.newaxis]\n",
    "        \n",
    "    for dim, label in zip(range(yact.shape[-1]),labels):\n",
    "        db[label + '_actual'] = yact[:,dim]\n",
    "        db[label + '_pred'] = pred[:,dim]\n",
    "        \n",
    "        db.to_csv(name + '.csv', index=None)\n",
    "    return db\n"
   ]
  },
  {
   "cell_type": "code",
   "execution_count": null,
   "metadata": {},
   "outputs": [],
   "source": [
    "save_df(db=dbtr_per221, yact = ytr_per221, pred = ptr_per221, labels=['a'], name='dbtr_per221')\n",
    "save_df(db=dbts_per221, yact = yts_per221, pred = pts_per221, labels=['a'], name='dbts_per221')\n",
    "\n",
    "save_df(db=dbtr_per225, yact = ytr_per225, pred = ptr_per225, labels=['a'], name='dbtr_per225')\n",
    "save_df(db=dbts_per225, yact = yts_per225, pred = pts_per225, labels=['a'], name='dbts_per225')\n",
    "\n",
    "save_df(db=dbtr_garnet, yact = ytr_garnet, pred = ptr_garnet, labels=['a'], name='dbtr_garnet')\n",
    "save_df(db=dbts_garnet, yact = yts_garnet, pred = pts_garnet, labels=['a'], name='dbts_garnet')\n",
    "\n",
    "save_df(db=dbtr_spinel, yact = ytr_spinel, pred = ptr_spinel, labels=['a'], name='dbtr_spinel')\n",
    "save_df(db=dbts_spinel, yact = yts_spinel, pred = pts_spinel, labels=['a'], name='dbts_spinel')\n",
    "\n",
    "save_df(db=dbtr_perort, yact = ytr_perort, pred = ptr_perort, labels=['a','b','c'], name='dbtr_perort')\n",
    "save_df(db=dbts_perort, yact = yts_perort, pred = pts_perort, labels=['a','b','c'], name='dbts_perort')\n",
    "\n",
    "save_df(db=dbtr_perrhom, yact = ytr_perrhom, pred = ptr_perrhom, labels=['a','c'], name='dbtr_perrhom')\n",
    "save_df(db=dbts_perrhom, yact = yts_perrhom, pred = pts_perrhom, labels=['a','c'], name='dbts_perrhom')\n",
    "\n",
    "save_df(db=dbtr_perlay, yact = ytr_perlay, pred = ptr_perlay, labels=['a','c'], name='dbtr_perlay')\n",
    "save_df(db=dbts_perlay, yact = yts_perlay, pred = pts_perlay, labels=['a','c'], name='dbts_perlay')"
   ]
  },
  {
   "cell_type": "code",
   "execution_count": null,
   "metadata": {
    "collapsed": true
   },
   "outputs": [],
   "source": []
  }
 ],
 "metadata": {
  "kernelspec": {
   "display_name": "Python 3",
   "language": "python",
   "name": "python3"
  },
  "language_info": {
   "codemirror_mode": {
    "name": "ipython",
    "version": 3
   },
   "file_extension": ".py",
   "mimetype": "text/x-python",
   "name": "python",
   "nbconvert_exporter": "python",
   "pygments_lexer": "ipython3",
   "version": "3.6.1"
  }
 },
 "nbformat": 4,
 "nbformat_minor": 2
}
